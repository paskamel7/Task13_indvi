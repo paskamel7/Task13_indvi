{
  "cells": [
    {
      "cell_type": "code",
      "execution_count": 22,
      "metadata": {
        "id": "DFyt6ql7kBgX"
      },
      "outputs": [],
      "source": [
        "from torchvision import datasets\n",
        "from torchvision.transforms import ToTensor\n",
        "from torch.utils.data import DataLoader\n",
        "import torch.nn as nn\n",
        "import torch.nn.functional as F\n",
        "import torch.optim as optim\n",
        "import torch\n",
        "from re import X\n",
        "import matplotlib.pyplot as plt\n",
        "\n",
        "\n",
        "\n",
        "train_data = datasets.MNIST(\n",
        "    root= 'data',\n",
        "    train= True,\n",
        "    transform= ToTensor(),\n",
        "    download= True\n",
        ")\n",
        "test_data = datasets.MNIST(\n",
        "    root= 'data',\n",
        "    train= False,\n",
        "    transform= ToTensor(),\n",
        "    download= True\n",
        ")\n",
        "\n",
        "\n"
      ]
    },
    {
      "cell_type": "code",
      "execution_count": null,
      "metadata": {
        "colab": {
          "base_uri": "https://localhost:8080/",
          "height": 535
        },
        "id": "1nArFnALk0sS",
        "outputId": "a918bac8-0186-4b2e-ec02-9a1beed03910"
      },
      "outputs": [],
      "source": [
        "loaders = {\n",
        "    'train' : DataLoader(train_data,batch_size=100,shuffle=True,num_workers=1)\n",
        "   ,'test' : DataLoader(test_data,batch_size=100,shuffle=True,num_workers=1)\n",
        "}\n",
        "loaders\n",
        "\n",
        "class CNN(nn.Module):\n",
        "    def __init__(self):\n",
        "        super(CNN , self).__init__()\n",
        "        self.conv1 = nn.Conv2d(1,10,kernel_size=5)\n",
        "        self.conv2 = nn.Conv2d(10,20,kernel_size=5)\n",
        "        self.conv2_drop = nn.Dropout2d()\n",
        "        self.fc1 = nn.Linear(320,50)\n",
        "        self.fc2 = nn.Linear(50,10)\n",
        "    def forward (self , x):\n",
        "        x = F.relu(F.max_pool2d(self.conv1(x),2))\n",
        "        x = F.relu(F.max_pool2d(self.conv2_drop(self.conv2(x)),2))\n",
        "        x = x.view(-1,320)\n",
        "        x = F.relu(self.fc1(x))\n",
        "        x = F.dropout(x,training=self.training)\n",
        "        return F.softmax(x)\n",
        "\n",
        "device = torch. device('cuda' if torch.cuda.is_available() else 'cpu')\n",
        "model = CNN().to(device)\n",
        "optimizer = optim.Adam(model.parameters(), lr= 0.001)\n",
        "loss_fn = nn.CrossEntropyLoss()\n",
        "def train(epoch):\n",
        "    model.train()\n",
        "    for batch_idx , (data , target) in enumerate(loaders['train']):\n",
        "        data , target = data.to(device) , target.to(device)\n",
        "        optimizer.zero_grad()\n",
        "        output = model(data)\n",
        "        loss = loss_fn(output , target)\n",
        "        loss.backward()\n",
        "        optimizer.step()\n",
        "        if batch_idx % 20 == 0:\n",
        "           print(f'Train Epoch: {epoch} [{batch_idx * len(data)}/{len(loaders[\"train\"].dataset)} ({100. * batch_idx / len(loaders[\"train\"]):.0f}%)]\\tLoss: {loss.item():0.6f}')\n",
        "\n",
        "def test ():\n",
        "    model.eval()\n",
        "    test_loss = 0\n",
        "    correct = 0\n",
        "    with torch.no_grad():\n",
        "        for data , target in loaders['test']:\n",
        "            data , target = data.to(device), target.to(device)\n",
        "            output = model(data)\n",
        "            test_loss += loss_fn(output,target).item()\n",
        "            pred = output.argmax(dim=1,keepdim = True)\n",
        "            correct += pred.eq(target.view_as(pred)).sum().item()\n",
        "    test_loss /= len (loaders['test'].dataset)\n",
        "    print(f'\\nTest set : Average loss ; {test_loss:.4f}, Accuracy {correct}/{len(loaders[\"test\"].dataset)} ({100. * correct / len(loaders[\"test\"].dataset): .0f}%\\n)')\n",
        "for epoch in range (1,11):\n",
        "    print(train(epoch))\n",
        "    print(test())\n",
        "\n"
      ]
    },
    {
      "cell_type": "code",
      "execution_count": null,
      "metadata": {
        "colab": {
          "base_uri": "https://localhost:8080/",
          "height": 448
        },
        "id": "QK2U5TAolXGd",
        "outputId": "b049ccc1-84d3-47fe-adac-73585bc2daa9"
      },
      "outputs": [],
      "source": [
        "model.eval()\n",
        "data, target = test_data[500]\n",
        "data = data.unsqueeze(0).to(device)\n",
        "output = model(data)\n",
        "prediction = output.argmax(dim=1, keepdim=True).item()\n",
        "print(f'Prediction: {prediction}')\n",
        "image = data.squeeze(0).squeeze(0).cpu().numpy()\n",
        "plt.imshow(image, cmap='gray')\n",
        "plt.show()"
      ]
    }
  ],
  "metadata": {
    "colab": {
      "provenance": []
    },
    "kernelspec": {
      "display_name": "Python 3",
      "name": "python3"
    },
    "language_info": {
      "name": "python"
    }
  },
  "nbformat": 4,
  "nbformat_minor": 0
}
